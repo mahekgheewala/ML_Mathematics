{
  "nbformat": 4,
  "nbformat_minor": 0,
  "metadata": {
    "colab": {
      "provenance": [],
      "authorship_tag": "ABX9TyOeq/8HfboH+0ynqxkGlMYq",
      "include_colab_link": true
    },
    "kernelspec": {
      "name": "python3",
      "display_name": "Python 3"
    },
    "language_info": {
      "name": "python"
    }
  },
  "cells": [
    {
      "cell_type": "markdown",
      "metadata": {
        "id": "view-in-github",
        "colab_type": "text"
      },
      "source": [
        "<a href=\"https://colab.research.google.com/github/mahekgheewala/ML_Mathematics/blob/main/Matrix.ipynb\" target=\"_parent\"><img src=\"https://colab.research.google.com/assets/colab-badge.svg\" alt=\"Open In Colab\"/></a>"
      ]
    },
    {
      "cell_type": "code",
      "execution_count": 1,
      "metadata": {
        "id": "mujvPULLdF4B"
      },
      "outputs": [],
      "source": [
        "import numpy as np\n"
      ]
    },
    {
      "cell_type": "markdown",
      "source": [
        "Creating a Matrix using numpy"
      ],
      "metadata": {
        "id": "mT_SKtPGgVR9"
      }
    },
    {
      "cell_type": "code",
      "source": [
        "# The 2 brackets are the 2 rows of a Matrix\n",
        "matrix1 = np.array([[2,3], [6,7]])\n",
        "print(matrix1)"
      ],
      "metadata": {
        "colab": {
          "base_uri": "https://localhost:8080/"
        },
        "id": "81GHhduCgUKq",
        "outputId": "781c8ae2-1902-4053-be2b-2ec942627f5e"
      },
      "execution_count": 2,
      "outputs": [
        {
          "output_type": "stream",
          "name": "stdout",
          "text": [
            "[[2 3]\n",
            " [6 7]]\n"
          ]
        }
      ]
    },
    {
      "cell_type": "code",
      "source": [
        "matrix2 = np.array([[10, 34, 33], [12, 34, 33], [12, 33, 2]])\n",
        "print(matrix2)"
      ],
      "metadata": {
        "colab": {
          "base_uri": "https://localhost:8080/"
        },
        "id": "EmGIVnzqg5Wy",
        "outputId": "4e4212f5-c538-4b3b-a649-90fbda5cf2fa"
      },
      "execution_count": 5,
      "outputs": [
        {
          "output_type": "stream",
          "name": "stdout",
          "text": [
            "[[10 34 33]\n",
            " [12 34 33]\n",
            " [12 33  2]]\n"
          ]
        }
      ]
    },
    {
      "cell_type": "markdown",
      "source": [
        "Creating Matrices with random values."
      ],
      "metadata": {
        "id": "DQOE7OcrhiAv"
      }
    },
    {
      "cell_type": "code",
      "source": [
        "random_matrix = np.random.random((3,3))\n",
        "print(random_matrix)"
      ],
      "metadata": {
        "colab": {
          "base_uri": "https://localhost:8080/"
        },
        "id": "nL-A_PP3hX-s",
        "outputId": "9e57a0a7-cb91-4415-e85a-1cc0cb9183a6"
      },
      "execution_count": 6,
      "outputs": [
        {
          "output_type": "stream",
          "name": "stdout",
          "text": [
            "[[0.32570417 0.62483015 0.94805079]\n",
            " [0.98111137 0.6912482  0.62776971]\n",
            " [0.34317233 0.66676733 0.98000342]]\n"
          ]
        }
      ]
    },
    {
      "cell_type": "code",
      "source": [
        "random_matrix2 = np.random.randint(10, 20, (4,5))\n",
        "# We can also write it as:\n",
        "# np.random.randiant(100, (2,3))\n",
        "# Here all the values would be less than 100\n",
        "print(random_matrix2)"
      ],
      "metadata": {
        "colab": {
          "base_uri": "https://localhost:8080/"
        },
        "id": "i-n9hL3Ch29l",
        "outputId": "6d25d594-010b-49e7-f9d0-5a286c3f144b"
      },
      "execution_count": 7,
      "outputs": [
        {
          "output_type": "stream",
          "name": "stdout",
          "text": [
            "[[17 13 19 15 16]\n",
            " [16 10 14 17 11]\n",
            " [13 12 13 10 11]\n",
            " [14 15 10 12 18]]\n"
          ]
        }
      ]
    },
    {
      "cell_type": "markdown",
      "source": [
        "Matrix with all the values as 1."
      ],
      "metadata": {
        "id": "jct2mJdEiy9m"
      }
    },
    {
      "cell_type": "code",
      "source": [
        "matrix3 = np.ones((2,3))\n",
        "print(matrix3)"
      ],
      "metadata": {
        "colab": {
          "base_uri": "https://localhost:8080/"
        },
        "id": "TObQLm77iOZw",
        "outputId": "3894382b-8491-4d52-95c2-a79935e5dc32"
      },
      "execution_count": 9,
      "outputs": [
        {
          "output_type": "stream",
          "name": "stdout",
          "text": [
            "[[1. 1. 1.]\n",
            " [1. 1. 1.]]\n"
          ]
        }
      ]
    },
    {
      "cell_type": "markdown",
      "source": [
        "In above code, all the values is in floating number, now we would create all the values in integer."
      ],
      "metadata": {
        "id": "LUS-rnEljIBw"
      }
    },
    {
      "cell_type": "code",
      "source": [
        "matrix3 = np.ones((2,3), dtype=int)\n",
        "print(matrix3)"
      ],
      "metadata": {
        "colab": {
          "base_uri": "https://localhost:8080/"
        },
        "id": "_FrnF3xGi-eU",
        "outputId": "b51373eb-5065-4142-f814-e957d32d4e92"
      },
      "execution_count": 10,
      "outputs": [
        {
          "output_type": "stream",
          "name": "stdout",
          "text": [
            "[[1 1 1]\n",
            " [1 1 1]]\n"
          ]
        }
      ]
    },
    {
      "cell_type": "markdown",
      "source": [
        "Creating a Null Matrix."
      ],
      "metadata": {
        "id": "pKDgJ6pmjjUV"
      }
    },
    {
      "cell_type": "code",
      "source": [
        "matrix4 = np.zeros((2,3), dtype = int)\n",
        "print(matrix4)"
      ],
      "metadata": {
        "colab": {
          "base_uri": "https://localhost:8080/"
        },
        "id": "bqx22F11jXuD",
        "outputId": "8b7af380-a9ee-4f7c-f512-3a6285f398de"
      },
      "execution_count": 11,
      "outputs": [
        {
          "output_type": "stream",
          "name": "stdout",
          "text": [
            "[[0 0 0]\n",
            " [0 0 0]]\n"
          ]
        }
      ]
    },
    {
      "cell_type": "markdown",
      "source": [
        "Creating a Identity Matrix."
      ],
      "metadata": {
        "id": "BvNaZGTSjzge"
      }
    },
    {
      "cell_type": "code",
      "source": [
        "matrix5 = np.eye(3,3, dtype=int)\n",
        "print(matrix5)"
      ],
      "metadata": {
        "colab": {
          "base_uri": "https://localhost:8080/"
        },
        "id": "JAwsJQuKjras",
        "outputId": "abbe5925-6d80-4497-e6af-21652ff61095"
      },
      "execution_count": 13,
      "outputs": [
        {
          "output_type": "stream",
          "name": "stdout",
          "text": [
            "[[1 0 0]\n",
            " [0 1 0]\n",
            " [0 0 1]]\n"
          ]
        }
      ]
    },
    {
      "cell_type": "markdown",
      "source": [
        "Transpose of a Matrix."
      ],
      "metadata": {
        "id": "FG4RiopnkeBi"
      }
    },
    {
      "cell_type": "code",
      "source": [
        "matrix6 = np.random.randint(10, 30, (2,3))\n",
        "print(matrix6)\n",
        "matrix7 = np.transpose(matrix6)\n",
        "print(matrix7)"
      ],
      "metadata": {
        "colab": {
          "base_uri": "https://localhost:8080/"
        },
        "id": "WXrhyXjekVWy",
        "outputId": "08a3f21b-2de3-48bc-a6b3-0103068963a8"
      },
      "execution_count": 16,
      "outputs": [
        {
          "output_type": "stream",
          "name": "stdout",
          "text": [
            "[[27 28 12]\n",
            " [29 28 10]]\n",
            "[[27 29]\n",
            " [28 28]\n",
            " [12 10]]\n"
          ]
        }
      ]
    },
    {
      "cell_type": "markdown",
      "source": [
        "Matrix Addition / Subtraction."
      ],
      "metadata": {
        "id": "JqFDjox3t62k"
      }
    },
    {
      "cell_type": "code",
      "source": [
        "matrix_a = np.array([[2,3], [10, 9]])\n",
        "matrix_b = np.array([[20,30], [12, 33]])\n",
        "print(matrix_a)\n",
        "print(matrix_b)\n",
        "print(matrix_a + matrix_b)\n",
        "print(matrix_a - matrix_b)"
      ],
      "metadata": {
        "colab": {
          "base_uri": "https://localhost:8080/"
        },
        "id": "ufVEI-Plkyu2",
        "outputId": "36441898-458b-4d8b-a657-b4029a1cf065"
      },
      "execution_count": 18,
      "outputs": [
        {
          "output_type": "stream",
          "name": "stdout",
          "text": [
            "[[ 2  3]\n",
            " [10  9]]\n",
            "[[20 30]\n",
            " [12 33]]\n",
            "[[22 33]\n",
            " [22 42]]\n",
            "[[-18 -27]\n",
            " [ -2 -24]]\n"
          ]
        }
      ]
    },
    {
      "cell_type": "markdown",
      "source": [
        "Another way."
      ],
      "metadata": {
        "id": "eYCtRutbxIrm"
      }
    },
    {
      "cell_type": "code",
      "source": [
        "a = np.random.randint(20, size=(3,3))\n",
        "b = np.random.randint(34, size=(3,3))"
      ],
      "metadata": {
        "id": "mGh-u-8Zw39d"
      },
      "execution_count": 20,
      "outputs": []
    },
    {
      "cell_type": "code",
      "source": [
        "sum = np.add(a, b)"
      ],
      "metadata": {
        "id": "Z7Y-9-HBxURE"
      },
      "execution_count": 21,
      "outputs": []
    },
    {
      "cell_type": "code",
      "source": [
        "print(sum)"
      ],
      "metadata": {
        "colab": {
          "base_uri": "https://localhost:8080/"
        },
        "id": "3nUYS_12xsJQ",
        "outputId": "938073a7-5da9-46b9-e4b6-2dc09ffefa5f"
      },
      "execution_count": 22,
      "outputs": [
        {
          "output_type": "stream",
          "name": "stdout",
          "text": [
            "[[19 36 11]\n",
            " [21 50 37]\n",
            " [39 18 37]]\n"
          ]
        }
      ]
    },
    {
      "cell_type": "code",
      "source": [
        "diff = np.subtract(a,b)"
      ],
      "metadata": {
        "id": "8_C_pk2uxteF"
      },
      "execution_count": 23,
      "outputs": []
    },
    {
      "cell_type": "code",
      "source": [
        "print(diff)"
      ],
      "metadata": {
        "colab": {
          "base_uri": "https://localhost:8080/"
        },
        "id": "2EWv1HD7x8qP",
        "outputId": "98236afa-c637-447c-e623-cea00dc2499f"
      },
      "execution_count": 24,
      "outputs": [
        {
          "output_type": "stream",
          "name": "stdout",
          "text": [
            "[[ 13 -12  -1]\n",
            " [ 17 -14  -1]\n",
            " [ -5  -4  -7]]\n"
          ]
        }
      ]
    },
    {
      "cell_type": "markdown",
      "source": [
        "Multiply a Matrix by a scalar"
      ],
      "metadata": {
        "id": "pXfqMAwGyT4I"
      }
    },
    {
      "cell_type": "code",
      "source": [
        "x = 5\n",
        "y = np.random.randint(12, size=(3,3))\n",
        "print(y)"
      ],
      "metadata": {
        "colab": {
          "base_uri": "https://localhost:8080/"
        },
        "id": "pRj5kbJTx-Bh",
        "outputId": "d7315a97-40d0-4414-b8ae-6975309d003f"
      },
      "execution_count": 26,
      "outputs": [
        {
          "output_type": "stream",
          "name": "stdout",
          "text": [
            "[[5 0 7]\n",
            " [9 6 1]\n",
            " [0 6 9]]\n"
          ]
        }
      ]
    },
    {
      "cell_type": "code",
      "source": [
        "product = np.multiply(x,y)\n",
        "print(product)"
      ],
      "metadata": {
        "colab": {
          "base_uri": "https://localhost:8080/"
        },
        "id": "5bSuCxNVydJt",
        "outputId": "344fb5b6-2b08-436b-d714-e67792c87297"
      },
      "execution_count": 27,
      "outputs": [
        {
          "output_type": "stream",
          "name": "stdout",
          "text": [
            "[[25  0 35]\n",
            " [45 30  5]\n",
            " [ 0 30 45]]\n"
          ]
        }
      ]
    },
    {
      "cell_type": "markdown",
      "source": [
        "Multiplying 2 matrix\n"
      ],
      "metadata": {
        "id": "j8qgU8mSzRzT"
      }
    },
    {
      "cell_type": "code",
      "source": [
        "c = np.random.randint(5, size=(2,3))\n",
        "d = np.random.randint(4, size=(3,4))"
      ],
      "metadata": {
        "id": "iHKf-bAjyo-q"
      },
      "execution_count": 28,
      "outputs": []
    },
    {
      "cell_type": "code",
      "source": [
        "print(c)"
      ],
      "metadata": {
        "colab": {
          "base_uri": "https://localhost:8080/"
        },
        "id": "I6FbkAAHzezM",
        "outputId": "df52763e-043b-4a35-b3d8-066b0d7d61da"
      },
      "execution_count": 29,
      "outputs": [
        {
          "output_type": "stream",
          "name": "stdout",
          "text": [
            "[[1 3 1]\n",
            " [3 2 1]]\n"
          ]
        }
      ]
    },
    {
      "cell_type": "code",
      "source": [
        "print(d)"
      ],
      "metadata": {
        "colab": {
          "base_uri": "https://localhost:8080/"
        },
        "id": "TTu-KDQHzgFZ",
        "outputId": "dcb2813d-e01f-45ed-a4e9-10c04b8480c3"
      },
      "execution_count": 30,
      "outputs": [
        {
          "output_type": "stream",
          "name": "stdout",
          "text": [
            "[[1 1 2 2]\n",
            " [0 3 0 3]\n",
            " [2 1 2 2]]\n"
          ]
        }
      ]
    },
    {
      "cell_type": "code",
      "source": [
        "product1 = np.dot(c,d)\n",
        "print(product1)"
      ],
      "metadata": {
        "colab": {
          "base_uri": "https://localhost:8080/"
        },
        "id": "PaepwIU0zhWM",
        "outputId": "f761ca09-4ef6-44d1-9b67-d6580445a790"
      },
      "execution_count": 31,
      "outputs": [
        {
          "output_type": "stream",
          "name": "stdout",
          "text": [
            "[[ 3 11  4 13]\n",
            " [ 5 10  8 14]]\n"
          ]
        }
      ]
    },
    {
      "cell_type": "markdown",
      "source": [
        "Element wise Matrix Multiplication."
      ],
      "metadata": {
        "id": "Gg6JiqaH0DQn"
      }
    },
    {
      "cell_type": "code",
      "source": [
        "m = np.random.randint(5, size=(2,3))\n",
        "n = np.random.randint(4, size=(2,3))"
      ],
      "metadata": {
        "id": "9RghE6a8zmRa"
      },
      "execution_count": 36,
      "outputs": []
    },
    {
      "cell_type": "code",
      "source": [
        "print(m)"
      ],
      "metadata": {
        "colab": {
          "base_uri": "https://localhost:8080/"
        },
        "id": "scdB7CUl0KV1",
        "outputId": "388ba824-9663-4544-cc85-29c2365896a2"
      },
      "execution_count": 37,
      "outputs": [
        {
          "output_type": "stream",
          "name": "stdout",
          "text": [
            "[[0 3 4]\n",
            " [1 2 1]]\n"
          ]
        }
      ]
    },
    {
      "cell_type": "code",
      "source": [
        "print(n)"
      ],
      "metadata": {
        "colab": {
          "base_uri": "https://localhost:8080/"
        },
        "id": "PIXF4lOi0L5w",
        "outputId": "b07363be-9ecf-49b3-f527-a70703036f27"
      },
      "execution_count": 38,
      "outputs": [
        {
          "output_type": "stream",
          "name": "stdout",
          "text": [
            "[[0 2 2]\n",
            " [0 2 0]]\n"
          ]
        }
      ]
    },
    {
      "cell_type": "code",
      "source": [
        "product2 = np.multiply(m,n)\n",
        "print(product2)"
      ],
      "metadata": {
        "colab": {
          "base_uri": "https://localhost:8080/"
        },
        "id": "eSa8DQUj0NCc",
        "outputId": "25d60d7b-7592-4147-f366-df28787ee391"
      },
      "execution_count": 40,
      "outputs": [
        {
          "output_type": "stream",
          "name": "stdout",
          "text": [
            "[[0 6 8]\n",
            " [0 4 0]]\n"
          ]
        }
      ]
    },
    {
      "cell_type": "code",
      "source": [],
      "metadata": {
        "id": "0Q88xrAo0QjS"
      },
      "execution_count": null,
      "outputs": []
    }
  ]
}